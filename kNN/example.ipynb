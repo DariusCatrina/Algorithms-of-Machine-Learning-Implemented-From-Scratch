{
 "cells": [
  {
   "cell_type": "code",
   "execution_count": 27,
   "metadata": {},
   "outputs": [],
   "source": [
    "from knn import KNNClassifier\n",
    "from sklearn.datasets import load_breast_cancer\n",
    "from sklearn.model_selection import train_test_split\n",
    "import pandas as pd\n",
    "\n",
    "breast_cancer = load_breast_cancer()\n",
    "X = breast_cancer.data\n",
    "Y = breast_cancer.target\n",
    "\n",
    "\n",
    "\n",
    "data = pd.DataFrame(breast_cancer.data, columns=breast_cancer.feature_names)  \n",
    "data['class'] = breast_cancer.target\n",
    "\n",
    "Y = data['class']               \n",
    "X = data.drop('class', axis=1)   \n",
    "\n",
    "\n",
    "X_train, X_test, y_train, y_test = train_test_split(X, Y, test_size=0.1, stratify = Y, random_state=1) "
   ]
  },
  {
   "cell_type": "code",
   "execution_count": 29,
   "metadata": {},
   "outputs": [],
   "source": [
    "X_train, X_test, y_train, y_test = X_train.to_numpy(), X_test.to_numpy(), y_train.to_numpy(), y_test.to_numpy()"
   ]
  },
  {
   "cell_type": "code",
   "execution_count": 31,
   "metadata": {},
   "outputs": [
    {
     "name": "stdout",
     "output_type": "stream",
     "text": [
      "SK learn time: 0.0037071704864501953\n",
      "Brute force time: 0.06597280502319336\n",
      "KD tree time: 0.02058696746826172\n",
      "Acc score for brute force: 0.9473684210526315\n",
      "              precision    recall  f1-score   support\n",
      "\n",
      "           0       0.95      0.90      0.93        21\n",
      "           1       0.95      0.97      0.96        36\n",
      "\n",
      "    accuracy                           0.95        57\n",
      "   macro avg       0.95      0.94      0.94        57\n",
      "weighted avg       0.95      0.95      0.95        57\n",
      "\n",
      "Acc score for kd tree: 0.9649122807017544\n",
      "              precision    recall  f1-score   support\n",
      "\n",
      "           0       1.00      0.90      0.95        21\n",
      "           1       0.95      1.00      0.97        36\n",
      "\n",
      "    accuracy                           0.96        57\n",
      "   macro avg       0.97      0.95      0.96        57\n",
      "weighted avg       0.97      0.96      0.96        57\n",
      "\n",
      "Acc score for sklearn: 0.9298245614035088\n",
      "              precision    recall  f1-score   support\n",
      "\n",
      "           0       0.90      0.90      0.90        21\n",
      "           1       0.94      0.94      0.94        36\n",
      "\n",
      "    accuracy                           0.93        57\n",
      "   macro avg       0.92      0.92      0.92        57\n",
      "weighted avg       0.93      0.93      0.93        57\n",
      "\n"
     ]
    }
   ],
   "source": [
    "from sklearn.neighbors import KNeighborsClassifier\n",
    "from time import time\n",
    "\n",
    "\n",
    "kd_tree_cls = KNNClassifier(n_neighbors=5, algorithm='kd_tree', metric='euclidean')\n",
    "brute_kd_cls = KNNClassifier(n_neighbors=5, algorithm='brute_force', metric='euclidean')\n",
    "sk_cls = KNeighborsClassifier(n_neighbors=5, algorithm='auto',  metric='euclidean')\n",
    "\n",
    "kd_tree_cls.fit(X_train, y_train)\n",
    "brute_kd_cls.fit(X_train, y_train)\n",
    "sk_cls.fit(X_train, y_train)\n",
    "\n",
    "\n",
    "start = time()\n",
    "y_pred = sk_cls.predict(X_test)\n",
    "end = time()\n",
    "print(f'SK learn time: {end-start}')\n",
    "start = time()\n",
    "y_pred_brute = brute_kd_cls.predict(X_test)\n",
    "end = time()\n",
    "print(f'Brute force time: {end-start}')\n",
    "start = time()\n",
    "y_pred_kd = kd_tree_cls.predict(X_test)\n",
    "end = time()\n",
    "print(f'KD tree time: {end-start}')\n",
    "\n",
    "\n",
    "\n",
    "from sklearn.metrics import classification_report, accuracy_score\n",
    "\n",
    "print(f'Acc score for brute force: {accuracy_score(y_test, y_pred_brute)}')\n",
    "print(classification_report(y_test, y_pred_brute))\n",
    "\n",
    "\n",
    "print(f'Acc score for kd tree: {accuracy_score(y_test, y_pred_kd)}')\n",
    "print(classification_report(y_test, y_pred_kd))\n",
    "\n",
    "print(f'Acc score for sklearn: {accuracy_score(y_test, y_pred)}')\n",
    "print(classification_report(y_test, y_pred))\n",
    "\n"
   ]
  }
 ],
 "metadata": {
  "kernelspec": {
   "display_name": "Python 3",
   "language": "python",
   "name": "python3"
  },
  "language_info": {
   "codemirror_mode": {
    "name": "ipython",
    "version": 3
   },
   "file_extension": ".py",
   "mimetype": "text/x-python",
   "name": "python",
   "nbconvert_exporter": "python",
   "pygments_lexer": "ipython3",
   "version": "3.9.6"
  }
 },
 "nbformat": 4,
 "nbformat_minor": 2
}
